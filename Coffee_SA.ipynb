{
 "cells": [
  {
   "cell_type": "markdown",
   "metadata": {
    "collapsed": false
   },
   "source": [
    "# Sentiment Analysis of coffee shops reviews \n",
    "### By Group 4"
   ]
  },
  {
   "cell_type": "code",
   "execution_count": 1,
   "metadata": {
    "collapsed": false
   },
   "outputs": [
    {
     "ename": "ModuleNotFoundError",
     "evalue": "No module named 'pandas'",
     "output_type": "error",
     "traceback": [
      "\u001b[1;31m---------------------------------------------------------------------------\u001b[0m",
      "\u001b[1;31mModuleNotFoundError\u001b[0m                       Traceback (most recent call last)",
      "Cell \u001b[1;32mIn[1], line 1\u001b[0m\n\u001b[1;32m----> 1\u001b[0m \u001b[38;5;28;01mimport\u001b[39;00m \u001b[38;5;21;01mpandas\u001b[39;00m \u001b[38;5;28;01mas\u001b[39;00m \u001b[38;5;21;01mpd\u001b[39;00m\n\u001b[0;32m      2\u001b[0m \u001b[38;5;28;01mimport\u001b[39;00m \u001b[38;5;21;01mnltk\u001b[39;00m\n\u001b[0;32m      3\u001b[0m \u001b[38;5;28;01mimport\u001b[39;00m \u001b[38;5;21;01mmatplotlib\u001b[39;00m\u001b[38;5;21;01m.\u001b[39;00m\u001b[38;5;21;01mpyplot\u001b[39;00m \u001b[38;5;28;01mas\u001b[39;00m \u001b[38;5;21;01mplt\u001b[39;00m\n",
      "\u001b[1;31mModuleNotFoundError\u001b[0m: No module named 'pandas'"
     ]
    }
   ],
   "source": [
    "import pandas as pd\n",
    "import nltk\n",
    "import matplotlib.pyplot as plt\n",
    "import seaborn as sns\n",
    "sns.set(rc={'figure.figsize':(9.7,6.27)})\n",
    "sns.set_style(\"white\")\n",
    "from nltk.corpus import stopwords\n",
    "nltk.download('stopwords')\n",
    "from nltk.stem import PorterStemmer\n",
    "from nltk.stem import WordNetLemmatizer\n",
    "from sklearn.naive_bayes import MultinomialNB\n",
    "from sklearn.feature_extraction.text import TfidfVectorizer\n",
    "from sklearn.feature_extraction.text import CountVectorizer\n",
    "from sklearn.model_selection import train_test_split\n",
    "from sklearn.metrics import classification_report\n",
    "from sklearn.metrics import accuracy_score\n",
    "from sklearn.linear_model import LogisticRegression\n",
    "import re"
   ]
  },
  {
   "cell_type": "code",
   "execution_count": null,
   "metadata": {
    "collapsed": false
   },
   "outputs": [
    {
     "data": {
      "text/html": [
       "<div>\n",
       "<style scoped>\n",
       "    .dataframe tbody tr th:only-of-type {\n",
       "        vertical-align: middle;\n",
       "    }\n",
       "\n",
       "    .dataframe tbody tr th {\n",
       "        vertical-align: top;\n",
       "    }\n",
       "\n",
       "    .dataframe thead th {\n",
       "        text-align: right;\n",
       "    }\n",
       "</style>\n",
       "<table border=\"1\" class=\"dataframe\">\n",
       "  <thead>\n",
       "    <tr style=\"text-align: right;\">\n",
       "      <th></th>\n",
       "      <th>page</th>\n",
       "      <th>name</th>\n",
       "      <th>link</th>\n",
       "      <th>thumbnail</th>\n",
       "      <th>rating</th>\n",
       "      <th>date</th>\n",
       "      <th>snippet</th>\n",
       "      <th>images</th>\n",
       "      <th>local_guide</th>\n",
       "      <th>CoffeeShop</th>\n",
       "    </tr>\n",
       "  </thead>\n",
       "  <tbody>\n",
       "    <tr>\n",
       "      <th>0</th>\n",
       "      <td>1</td>\n",
       "      <td>J Wang</td>\n",
       "      <td>https://www.google.com/maps/contrib/1066405393...</td>\n",
       "      <td>https://lh3.googleusercontent.com/a/ALm5wu2QSW...</td>\n",
       "      <td>1.0</td>\n",
       "      <td>10 months ago</td>\n",
       "      <td>Ordered take away lunch and received this burn...</td>\n",
       "      <td>['https://lh5.googleusercontent.com/p/AF1QipNc...</td>\n",
       "      <td>True</td>\n",
       "      <td>Paramount Coffee Project</td>\n",
       "    </tr>\n",
       "    <tr>\n",
       "      <th>1</th>\n",
       "      <td>1</td>\n",
       "      <td>Manish Rai</td>\n",
       "      <td>https://www.google.com/maps/contrib/1087306153...</td>\n",
       "      <td>https://lh3.googleusercontent.com/a/ALm5wu0hYM...</td>\n",
       "      <td>1.0</td>\n",
       "      <td>6 months ago</td>\n",
       "      <td>TLDR/Long story short: Wrong pricing online, o...</td>\n",
       "      <td>['https://lh5.googleusercontent.com/p/AF1QipO-...</td>\n",
       "      <td>NaN</td>\n",
       "      <td>Paramount Coffee Project</td>\n",
       "    </tr>\n",
       "    <tr>\n",
       "      <th>2</th>\n",
       "      <td>1</td>\n",
       "      <td>Lisa</td>\n",
       "      <td>https://www.google.com/maps/contrib/1090187054...</td>\n",
       "      <td>https://lh3.googleusercontent.com/a-/ACNPEu-sy...</td>\n",
       "      <td>1.0</td>\n",
       "      <td>3 months ago</td>\n",
       "      <td>Drinks order was taken and drinks never arrive...</td>\n",
       "      <td>NaN</td>\n",
       "      <td>NaN</td>\n",
       "      <td>Paramount Coffee Project</td>\n",
       "    </tr>\n",
       "    <tr>\n",
       "      <th>3</th>\n",
       "      <td>1</td>\n",
       "      <td>Angel Manuel</td>\n",
       "      <td>https://www.google.com/maps/contrib/1127216205...</td>\n",
       "      <td>https://lh3.googleusercontent.com/a-/ACNPEu850...</td>\n",
       "      <td>1.0</td>\n",
       "      <td>2 months ago</td>\n",
       "      <td>I came here twice, poor service. I ordered gre...</td>\n",
       "      <td>NaN</td>\n",
       "      <td>NaN</td>\n",
       "      <td>Paramount Coffee Project</td>\n",
       "    </tr>\n",
       "    <tr>\n",
       "      <th>4</th>\n",
       "      <td>1</td>\n",
       "      <td>Jisoo</td>\n",
       "      <td>https://www.google.com/maps/contrib/1168975833...</td>\n",
       "      <td>https://lh3.googleusercontent.com/a/ALm5wu25sD...</td>\n",
       "      <td>1.0</td>\n",
       "      <td>a year ago</td>\n",
       "      <td>We came here because the coffee shop we were g...</td>\n",
       "      <td>['https://lh5.googleusercontent.com/p/AF1QipOG...</td>\n",
       "      <td>NaN</td>\n",
       "      <td>Paramount Coffee Project</td>\n",
       "    </tr>\n",
       "  </tbody>\n",
       "</table>\n",
       "</div>"
      ],
      "text/plain": [
       "   page          name                                               link  \\\n",
       "0     1        J Wang  https://www.google.com/maps/contrib/1066405393...   \n",
       "1     1    Manish Rai  https://www.google.com/maps/contrib/1087306153...   \n",
       "2     1          Lisa  https://www.google.com/maps/contrib/1090187054...   \n",
       "3     1  Angel Manuel  https://www.google.com/maps/contrib/1127216205...   \n",
       "4     1         Jisoo  https://www.google.com/maps/contrib/1168975833...   \n",
       "\n",
       "                                           thumbnail  rating           date  \\\n",
       "0  https://lh3.googleusercontent.com/a/ALm5wu2QSW...     1.0  10 months ago   \n",
       "1  https://lh3.googleusercontent.com/a/ALm5wu0hYM...     1.0   6 months ago   \n",
       "2  https://lh3.googleusercontent.com/a-/ACNPEu-sy...     1.0   3 months ago   \n",
       "3  https://lh3.googleusercontent.com/a-/ACNPEu850...     1.0   2 months ago   \n",
       "4  https://lh3.googleusercontent.com/a/ALm5wu25sD...     1.0     a year ago   \n",
       "\n",
       "                                             snippet  \\\n",
       "0  Ordered take away lunch and received this burn...   \n",
       "1  TLDR/Long story short: Wrong pricing online, o...   \n",
       "2  Drinks order was taken and drinks never arrive...   \n",
       "3  I came here twice, poor service. I ordered gre...   \n",
       "4  We came here because the coffee shop we were g...   \n",
       "\n",
       "                                              images local_guide  \\\n",
       "0  ['https://lh5.googleusercontent.com/p/AF1QipNc...        True   \n",
       "1  ['https://lh5.googleusercontent.com/p/AF1QipO-...         NaN   \n",
       "2                                                NaN         NaN   \n",
       "3                                                NaN         NaN   \n",
       "4  ['https://lh5.googleusercontent.com/p/AF1QipOG...         NaN   \n",
       "\n",
       "                 CoffeeShop  \n",
       "0  Paramount Coffee Project  \n",
       "1  Paramount Coffee Project  \n",
       "2  Paramount Coffee Project  \n",
       "3  Paramount Coffee Project  \n",
       "4  Paramount Coffee Project  "
      ]
     },
     "execution_count": 3,
     "metadata": {},
     "output_type": "execute_result"
    }
   ],
   "source": [
    "df = pd.read_csv('surry_hills_coffee_reviews.csv')\n",
    "df.head(5)"
   ]
  },
  {
   "cell_type": "markdown",
   "metadata": {
    "collapsed": false
   },
   "source": [
    "## Data exploration"
   ]
  },
  {
   "cell_type": "code",
   "execution_count": null,
   "metadata": {
    "collapsed": false
   },
   "outputs": [
    {
     "data": {
      "text/html": [
       "<div>\n",
       "<style scoped>\n",
       "    .dataframe tbody tr th:only-of-type {\n",
       "        vertical-align: middle;\n",
       "    }\n",
       "\n",
       "    .dataframe tbody tr th {\n",
       "        vertical-align: top;\n",
       "    }\n",
       "\n",
       "    .dataframe thead th {\n",
       "        text-align: right;\n",
       "    }\n",
       "</style>\n",
       "<table border=\"1\" class=\"dataframe\">\n",
       "  <thead>\n",
       "    <tr style=\"text-align: right;\">\n",
       "      <th></th>\n",
       "      <th>page</th>\n",
       "      <th>name</th>\n",
       "      <th>link</th>\n",
       "      <th>thumbnail</th>\n",
       "      <th>rating</th>\n",
       "      <th>date</th>\n",
       "      <th>snippet</th>\n",
       "      <th>images</th>\n",
       "      <th>local_guide</th>\n",
       "      <th>CoffeeShop</th>\n",
       "    </tr>\n",
       "  </thead>\n",
       "  <tbody>\n",
       "    <tr>\n",
       "      <th>28</th>\n",
       "      <td>1</td>\n",
       "      <td>Mann Hing Khor</td>\n",
       "      <td>https://www.google.com/maps/contrib/1157018408...</td>\n",
       "      <td>https://lh3.googleusercontent.com/a-/ACNPEu91h...</td>\n",
       "      <td>2.0</td>\n",
       "      <td>a year ago</td>\n",
       "      <td>NaN</td>\n",
       "      <td>NaN</td>\n",
       "      <td>True</td>\n",
       "      <td>Neighbourhood Speciality coffee</td>\n",
       "    </tr>\n",
       "  </tbody>\n",
       "</table>\n",
       "</div>"
      ],
      "text/plain": [
       "    page            name                                               link  \\\n",
       "28     1  Mann Hing Khor  https://www.google.com/maps/contrib/1157018408...   \n",
       "\n",
       "                                            thumbnail  rating        date  \\\n",
       "28  https://lh3.googleusercontent.com/a-/ACNPEu91h...     2.0  a year ago   \n",
       "\n",
       "   snippet images local_guide                       CoffeeShop  \n",
       "28     NaN    NaN        True  Neighbourhood Speciality coffee  "
      ]
     },
     "execution_count": 4,
     "metadata": {},
     "output_type": "execute_result"
    }
   ],
   "source": [
    "# Check whether there are some rows with empty review\n",
    "df[df.snippet.isnull()]"
   ]
  },
  {
   "cell_type": "code",
   "execution_count": null,
   "metadata": {
    "collapsed": false
   },
   "outputs": [],
   "source": [
    "# Remove empty record\n",
    "df = df[~df.snippet.isnull()].reset_index(drop=True)"
   ]
  },
  {
   "cell_type": "code",
   "execution_count": null,
   "metadata": {
    "collapsed": false
   },
   "outputs": [
    {
     "data": {
      "text/html": [
       "<div>\n",
       "<style scoped>\n",
       "    .dataframe tbody tr th:only-of-type {\n",
       "        vertical-align: middle;\n",
       "    }\n",
       "\n",
       "    .dataframe tbody tr th {\n",
       "        vertical-align: top;\n",
       "    }\n",
       "\n",
       "    .dataframe thead th {\n",
       "        text-align: right;\n",
       "    }\n",
       "</style>\n",
       "<table border=\"1\" class=\"dataframe\">\n",
       "  <thead>\n",
       "    <tr style=\"text-align: right;\">\n",
       "      <th></th>\n",
       "      <th>page</th>\n",
       "      <th>name</th>\n",
       "      <th>link</th>\n",
       "      <th>thumbnail</th>\n",
       "      <th>rating</th>\n",
       "      <th>date</th>\n",
       "      <th>snippet</th>\n",
       "      <th>images</th>\n",
       "      <th>local_guide</th>\n",
       "      <th>CoffeeShop</th>\n",
       "    </tr>\n",
       "  </thead>\n",
       "  <tbody>\n",
       "  </tbody>\n",
       "</table>\n",
       "</div>"
      ],
      "text/plain": [
       "Empty DataFrame\n",
       "Columns: [page, name, link, thumbnail, rating, date, snippet, images, local_guide, CoffeeShop]\n",
       "Index: []"
      ]
     },
     "execution_count": 6,
     "metadata": {},
     "output_type": "execute_result"
    }
   ],
   "source": [
    "# Check duplicates\n",
    "df[df.duplicated('snippet')]"
   ]
  },
  {
   "cell_type": "code",
   "execution_count": null,
   "metadata": {
    "collapsed": false
   },
   "outputs": [
    {
     "data": {
      "text/plain": [
       "rating\n",
       "1.0    258\n",
       "2.0    128\n",
       "3.0    137\n",
       "4.0    166\n",
       "5.0    475\n",
       "Name: snippet, dtype: int64"
      ]
     },
     "execution_count": 7,
     "metadata": {},
     "output_type": "execute_result"
    }
   ],
   "source": [
    "# Explore distribution of scoring\n",
    "df.groupby('rating')['snippet'].count()"
   ]
  },
  {
   "cell_type": "code",
   "execution_count": null,
   "metadata": {
    "collapsed": false
   },
   "outputs": [
    {
     "data": {
      "text/plain": [
       "rating\n",
       "1.0    258\n",
       "2.0    128\n",
       "3.0    137\n",
       "4.0    166\n",
       "5.0    475\n",
       "Name: snippet, dtype: int64"
      ]
     },
     "execution_count": 8,
     "metadata": {},
     "output_type": "execute_result"
    }
   ],
   "source": [
    "data = df.groupby('rating')['snippet'].count()\n",
    "data"
   ]
  },
  {
   "cell_type": "code",
   "execution_count": null,
   "metadata": {
    "collapsed": false
   },
   "outputs": [],
   "source": [
    "data = data.to_frame().reset_index()"
   ]
  },
  {
   "cell_type": "code",
   "execution_count": null,
   "metadata": {
    "collapsed": false
   },
   "outputs": [
    {
     "data": {
      "image/png": "[encoded data removed]",
      "text/plain": [
       "<Figure size 970x627 with 1 Axes>"
      ]
     },
     "metadata": {},
     "output_type": "display_data"
    }
   ],
   "source": [
    "# Explore distribution of scoring\n",
    "ax = sns.barplot(data=data, x='rating', y=\"snippet\")\n",
    "ax.bar_label(ax.containers[0])\n",
    "ax.set(title='Rating distribution')\n",
    "sns.despine()"
   ]
  },
  {
   "cell_type": "markdown",
   "metadata": {
    "collapsed": false
   },
   "source": [
    "Reviews with score 1.0 and 2.0 will be assigned with negative sentiment, 3.0 and 4.0 will indicate neutral attitude and 5.0 will respond for positive sentiment."
   ]
  },
  {
   "cell_type": "code",
   "execution_count": null,
   "metadata": {
    "collapsed": false
   },
   "outputs": [],
   "source": [
    "# Assign labels\n",
    "df['sentiment']=df['rating'].apply(lambda x: 1 if x==5  else -1 if 0<x<3 else 0)\n",
    "df['sentiment_desc']=df['rating'].apply(lambda x: 'positive' if x==5  else 'negative' if 0<x<3 else 'neutral')"
   ]
  },
  {
   "cell_type": "code",
   "execution_count": null,
   "metadata": {
    "collapsed": false
   },
   "outputs": [],
   "source": [
    "#df['sentiment']=df['rating'].apply(lambda x: 1 if x>4  else 0)"
   ]
  },
  {
   "cell_type": "code",
   "execution_count": null,
   "metadata": {
    "collapsed": false
   },
   "outputs": [
    {
     "data": {
      "text/html": [
       "<div>\n",
       "<style scoped>\n",
       "    .dataframe tbody tr th:only-of-type {\n",
       "        vertical-align: middle;\n",
       "    }\n",
       "\n",
       "    .dataframe tbody tr th {\n",
       "        vertical-align: top;\n",
       "    }\n",
       "\n",
       "    .dataframe thead th {\n",
       "        text-align: right;\n",
       "    }\n",
       "</style>\n",
       "<table border=\"1\" class=\"dataframe\">\n",
       "  <thead>\n",
       "    <tr style=\"text-align: right;\">\n",
       "      <th></th>\n",
       "      <th>snippet</th>\n",
       "      <th>rating</th>\n",
       "      <th>sentiment</th>\n",
       "    </tr>\n",
       "  </thead>\n",
       "  <tbody>\n",
       "    <tr>\n",
       "      <th>0</th>\n",
       "      <td>Ordered take away lunch and received this burn...</td>\n",
       "      <td>1.0</td>\n",
       "      <td>-1</td>\n",
       "    </tr>\n",
       "    <tr>\n",
       "      <th>1</th>\n",
       "      <td>TLDR/Long story short: Wrong pricing online, o...</td>\n",
       "      <td>1.0</td>\n",
       "      <td>-1</td>\n",
       "    </tr>\n",
       "    <tr>\n",
       "      <th>2</th>\n",
       "      <td>Drinks order was taken and drinks never arrive...</td>\n",
       "      <td>1.0</td>\n",
       "      <td>-1</td>\n",
       "    </tr>\n",
       "    <tr>\n",
       "      <th>3</th>\n",
       "      <td>I came here twice, poor service. I ordered gre...</td>\n",
       "      <td>1.0</td>\n",
       "      <td>-1</td>\n",
       "    </tr>\n",
       "    <tr>\n",
       "      <th>4</th>\n",
       "      <td>We came here because the coffee shop we were g...</td>\n",
       "      <td>1.0</td>\n",
       "      <td>-1</td>\n",
       "    </tr>\n",
       "  </tbody>\n",
       "</table>\n",
       "</div>"
      ],
      "text/plain": [
       "                                             snippet  rating  sentiment\n",
       "0  Ordered take away lunch and received this burn...     1.0         -1\n",
       "1  TLDR/Long story short: Wrong pricing online, o...     1.0         -1\n",
       "2  Drinks order was taken and drinks never arrive...     1.0         -1\n",
       "3  I came here twice, poor service. I ordered gre...     1.0         -1\n",
       "4  We came here because the coffee shop we were g...     1.0         -1"
      ]
     },
     "execution_count": 13,
     "metadata": {},
     "output_type": "execute_result"
    }
   ],
   "source": [
    "# Check if it works\n",
    "df[['snippet', 'rating', 'sentiment']].head(5)"
   ]
  },
  {
   "cell_type": "code",
   "execution_count": null,
   "metadata": {
    "collapsed": false
   },
   "outputs": [
    {
     "data": {
      "image/png": "[encoded data removed]",
      "text/plain": [
       "<Figure size 970x627 with 1 Axes>"
      ]
     },
     "metadata": {},
     "output_type": "display_data"
    }
   ],
   "source": [
    "# Explore distribution of sentiment\n",
    "data2 = df.groupby('sentiment_desc')['snippet'].count()\n",
    "data2 = data2.to_frame().reset_index()\n",
    "ax = sns.barplot(data=data2, x='sentiment_desc', y=\"snippet\")\n",
    "ax.bar_label(ax.containers[0])\n",
    "ax.set(title='Sentiment distribution')\n",
    "sns.despine()"
   ]
  },
  {
   "cell_type": "markdown",
   "metadata": {
    "collapsed": false
   },
   "source": [
    "We can conclude that this dataset is pretty balanced. But it depends on the way how labels were assigned to the score."
   ]
  },
  {
   "cell_type": "code",
   "execution_count": null,
   "metadata": {
    "collapsed": false
   },
   "outputs": [
    {
     "data": {
      "text/html": [
       "<div>\n",
       "<style scoped>\n",
       "    .dataframe tbody tr th:only-of-type {\n",
       "        vertical-align: middle;\n",
       "    }\n",
       "\n",
       "    .dataframe tbody tr th {\n",
       "        vertical-align: top;\n",
       "    }\n",
       "\n",
       "    .dataframe thead th {\n",
       "        text-align: right;\n",
       "    }\n",
       "</style>\n",
       "<table border=\"1\" class=\"dataframe\">\n",
       "  <thead>\n",
       "    <tr style=\"text-align: right;\">\n",
       "      <th></th>\n",
       "      <th>rating</th>\n",
       "      <th>snippet</th>\n",
       "    </tr>\n",
       "  </thead>\n",
       "  <tbody>\n",
       "    <tr>\n",
       "      <th>0</th>\n",
       "      <td>1.0</td>\n",
       "      <td>258</td>\n",
       "    </tr>\n",
       "    <tr>\n",
       "      <th>1</th>\n",
       "      <td>2.0</td>\n",
       "      <td>128</td>\n",
       "    </tr>\n",
       "    <tr>\n",
       "      <th>2</th>\n",
       "      <td>3.0</td>\n",
       "      <td>137</td>\n",
       "    </tr>\n",
       "    <tr>\n",
       "      <th>3</th>\n",
       "      <td>4.0</td>\n",
       "      <td>166</td>\n",
       "    </tr>\n",
       "    <tr>\n",
       "      <th>4</th>\n",
       "      <td>5.0</td>\n",
       "      <td>475</td>\n",
       "    </tr>\n",
       "  </tbody>\n",
       "</table>\n",
       "</div>"
      ],
      "text/plain": [
       "   rating  snippet\n",
       "0     1.0      258\n",
       "1     2.0      128\n",
       "2     3.0      137\n",
       "3     4.0      166\n",
       "4     5.0      475"
      ]
     },
     "execution_count": 15,
     "metadata": {},
     "output_type": "execute_result"
    }
   ],
   "source": [
    "data"
   ]
  },
  {
   "cell_type": "code",
   "execution_count": null,
   "metadata": {
    "collapsed": false
   },
   "outputs": [],
   "source": [
    "negative_prop = round(len(df[df.sentiment==-1])/len(df), 2)\n",
    "neutral_prop = round(len(df[df.sentiment==0])/len(df), 2)\n",
    "positive_prop = round(len(df[df.sentiment==1])/len(df), 2)"
   ]
  },
  {
   "cell_type": "code",
   "execution_count": null,
   "metadata": {
    "collapsed": false
   },
   "outputs": [],
   "source": [
    "target_df = pd.DataFrame({'sentiment': ['negative', 'neutral', 'positive'],\n",
    "                            'proportions': [negative_prop, neutral_prop, positive_prop]})"
   ]
  },
  {
   "cell_type": "code",
   "execution_count": null,
   "metadata": {
    "collapsed": false
   },
   "outputs": [
    {
     "name": "stdout",
     "output_type": "stream",
     "text": [
      "This dataset is balanced: negative reviews: 0.33, neutral reviews: 0.26, positive reviews: 0.41\n"
     ]
    }
   ],
   "source": [
    "print ('This dataset is balanced: '\n",
    "       'negative reviews: %s, '\n",
    "       'neutral reviews: %s, '\n",
    "       'positive reviews: %s' %\n",
    "       (str(negative_prop),\n",
    "        str(neutral_prop),\n",
    "        str(positive_prop)))"
   ]
  },
  {
   "cell_type": "code",
   "execution_count": null,
   "metadata": {
    "collapsed": false
   },
   "outputs": [
    {
     "data": {
      "image/png": "[encoded data removed]",
      "text/plain": [
       "<Figure size 970x627 with 1 Axes>"
      ]
     },
     "metadata": {},
     "output_type": "display_data"
    }
   ],
   "source": [
    "plt.pie(target_df['proportions'], labels = target_df['sentiment'], autopct='%.0f%%')\n",
    "plt.show()"
   ]
  },
  {
   "cell_type": "markdown",
   "metadata": {
    "collapsed": false
   },
   "source": [
    "## Data Preprocessing"
   ]
  },
  {
   "cell_type": "code",
   "execution_count": null,
   "metadata": {
    "collapsed": false
   },
   "outputs": [],
   "source": [
    "#Select only needed columns\n",
    "data = df[['snippet', 'sentiment']]"
   ]
  },
  {
   "cell_type": "code",
   "execution_count": null,
   "metadata": {
    "collapsed": false
   },
   "outputs": [
    {
     "data": {
      "text/html": [
       "<div>\n",
       "<style scoped>\n",
       "    .dataframe tbody tr th:only-of-type {\n",
       "        vertical-align: middle;\n",
       "    }\n",
       "\n",
       "    .dataframe tbody tr th {\n",
       "        vertical-align: top;\n",
       "    }\n",
       "\n",
       "    .dataframe thead th {\n",
       "        text-align: right;\n",
       "    }\n",
       "</style>\n",
       "<table border=\"1\" class=\"dataframe\">\n",
       "  <thead>\n",
       "    <tr style=\"text-align: right;\">\n",
       "      <th></th>\n",
       "      <th>snippet</th>\n",
       "      <th>sentiment</th>\n",
       "    </tr>\n",
       "  </thead>\n",
       "  <tbody>\n",
       "    <tr>\n",
       "      <th>0</th>\n",
       "      <td>Ordered take away lunch and received this burn...</td>\n",
       "      <td>-1</td>\n",
       "    </tr>\n",
       "    <tr>\n",
       "      <th>1</th>\n",
       "      <td>TLDR/Long story short: Wrong pricing online, o...</td>\n",
       "      <td>-1</td>\n",
       "    </tr>\n",
       "    <tr>\n",
       "      <th>2</th>\n",
       "      <td>Drinks order was taken and drinks never arrive...</td>\n",
       "      <td>-1</td>\n",
       "    </tr>\n",
       "    <tr>\n",
       "      <th>3</th>\n",
       "      <td>I came here twice, poor service. I ordered gre...</td>\n",
       "      <td>-1</td>\n",
       "    </tr>\n",
       "    <tr>\n",
       "      <th>4</th>\n",
       "      <td>We came here because the coffee shop we were g...</td>\n",
       "      <td>-1</td>\n",
       "    </tr>\n",
       "  </tbody>\n",
       "</table>\n",
       "</div>"
      ],
      "text/plain": [
       "                                             snippet  sentiment\n",
       "0  Ordered take away lunch and received this burn...         -1\n",
       "1  TLDR/Long story short: Wrong pricing online, o...         -1\n",
       "2  Drinks order was taken and drinks never arrive...         -1\n",
       "3  I came here twice, poor service. I ordered gre...         -1\n",
       "4  We came here because the coffee shop we were g...         -1"
      ]
     },
     "execution_count": 21,
     "metadata": {},
     "output_type": "execute_result"
    }
   ],
   "source": [
    "data.head(5)"
   ]
  },
  {
   "cell_type": "markdown",
   "metadata": {
    "collapsed": false
   },
   "source": [
    "All punctuations should be removed"
   ]
  },
  {
   "cell_type": "code",
   "execution_count": null,
   "metadata": {
    "collapsed": false
   },
   "outputs": [],
   "source": [
    "# Remove punctuations\n",
    "data['tidy_snippet'] = data['snippet'].str.replace(\"[^a-zA-Z#]\", \" \")"
   ]
  },
  {
   "cell_type": "markdown",
   "metadata": {
    "collapsed": false
   },
   "source": [
    "Remove unusufull words using list of english stop words defined in nltk package. Additionally, some custom words releted to coffee,  that could be present in each review, were removed."
   ]
  },
  {
   "cell_type": "code",
   "execution_count": null,
   "metadata": {
    "collapsed": false
   },
   "outputs": [],
   "source": [
    "# Prepare list of stops words from nltk\n",
    "stop_words=stopwords.words('english')"
   ]
  },
  {
   "cell_type": "code",
   "execution_count": null,
   "metadata": {
    "collapsed": false
   },
   "outputs": [],
   "source": [
    "# Define custom stop words\n",
    "my_stop_words = ['coffee','cafe', 'food', 'today', 'yesterday', 'place', 'staff', 'breakfast']"
   ]
  },
  {
   "cell_type": "code",
   "execution_count": null,
   "metadata": {
    "collapsed": false
   },
   "outputs": [],
   "source": [
    "# Combine two lists\n",
    "stop_words = stop_words + my_stop_words"
   ]
  },
  {
   "cell_type": "code",
   "execution_count": null,
   "metadata": {
    "collapsed": false
   },
   "outputs": [],
   "source": [
    "# Remove stop words\n",
    "data['tidy_snippet'] = data['tidy_snippet'].apply(lambda x: ' '.join([w for w in x.lower().split() if w not in stop_words]))"
   ]
  },
  {
   "cell_type": "markdown",
   "metadata": {
    "collapsed": false
   },
   "source": [
    "### For the next step there are two options: stemming or lemmatization.\n",
    "\n",
    "Stemming is a process that stems or removes last few characters from a word, often leading to incorrect meanings and spelling.\n",
    "Lemmatization considers the context and converts the word to its meaningful base form, which is called Lemma.\n",
    "\n",
    "Both options were checked bellow.\n",
    "\n"
   ]
  },
  {
   "cell_type": "code",
   "execution_count": null,
   "metadata": {
    "collapsed": false
   },
   "outputs": [],
   "source": [
    "## Stemming\n",
    "stemmer=PorterStemmer()\n",
    "data['stem_snippet']  = data['tidy_snippet'].apply(lambda x: ' '.join([stemmer.stem(word) for word in x.split()]))"
   ]
  },
  {
   "cell_type": "code",
   "execution_count": null,
   "metadata": {
    "collapsed": false
   },
   "outputs": [],
   "source": [
    "## Lemmatization\n",
    "lemmatizer = WordNetLemmatizer()\n",
    "data['lem_snippet'] = data['tidy_snippet'].apply(lambda x: ' '.join([lemmatizer.lemmatize(word) for word in x.split()]))"
   ]
  },
  {
   "cell_type": "code",
   "execution_count": null,
   "metadata": {
    "collapsed": false
   },
   "outputs": [
    {
     "data": {
      "text/html": [
       "<div>\n",
       "<style scoped>\n",
       "    .dataframe tbody tr th:only-of-type {\n",
       "        vertical-align: middle;\n",
       "    }\n",
       "\n",
       "    .dataframe tbody tr th {\n",
       "        vertical-align: top;\n",
       "    }\n",
       "\n",
       "    .dataframe thead th {\n",
       "        text-align: right;\n",
       "    }\n",
       "</style>\n",
       "<table border=\"1\" class=\"dataframe\">\n",
       "  <thead>\n",
       "    <tr style=\"text-align: right;\">\n",
       "      <th></th>\n",
       "      <th>tidy_snippet</th>\n",
       "      <th>stem_snippet</th>\n",
       "      <th>lem_snippet</th>\n",
       "    </tr>\n",
       "  </thead>\n",
       "  <tbody>\n",
       "    <tr>\n",
       "      <th>0</th>\n",
       "      <td>ordered take away lunch received burned toasti...</td>\n",
       "      <td>order take away lunch receiv burn toasti (hidd...</td>\n",
       "      <td>ordered take away lunch received burned toasti...</td>\n",
       "    </tr>\n",
       "    <tr>\n",
       "      <th>1</th>\n",
       "      <td>tldr/long story short: wrong pricing online, o...</td>\n",
       "      <td>tldr/long stori short: wrong price online, ove...</td>\n",
       "      <td>tldr/long story short: wrong pricing online, o...</td>\n",
       "    </tr>\n",
       "    <tr>\n",
       "      <th>2</th>\n",
       "      <td>drinks order taken drinks never arrived, chase...</td>\n",
       "      <td>drink order taken drink never arrived, chase u...</td>\n",
       "      <td>drink order taken drink never arrived, chase u...</td>\n",
       "    </tr>\n",
       "    <tr>\n",
       "      <th>3</th>\n",
       "      <td>came twice, poor service. ordered green tea, r...</td>\n",
       "      <td>came twice, poor service. order green tea, rec...</td>\n",
       "      <td>came twice, poor service. ordered green tea, r...</td>\n",
       "    </tr>\n",
       "    <tr>\n",
       "      <th>4</th>\n",
       "      <td>came shop gonna go closed. ordered housemade g...</td>\n",
       "      <td>came shop gonna go closed. order housemad gran...</td>\n",
       "      <td>came shop gonna go closed. ordered housemade g...</td>\n",
       "    </tr>\n",
       "  </tbody>\n",
       "</table>\n",
       "</div>"
      ],
      "text/plain": [
       "                                        tidy_snippet  \\\n",
       "0  ordered take away lunch received burned toasti...   \n",
       "1  tldr/long story short: wrong pricing online, o...   \n",
       "2  drinks order taken drinks never arrived, chase...   \n",
       "3  came twice, poor service. ordered green tea, r...   \n",
       "4  came shop gonna go closed. ordered housemade g...   \n",
       "\n",
       "                                        stem_snippet  \\\n",
       "0  order take away lunch receiv burn toasti (hidd...   \n",
       "1  tldr/long stori short: wrong price online, ove...   \n",
       "2  drink order taken drink never arrived, chase u...   \n",
       "3  came twice, poor service. order green tea, rec...   \n",
       "4  came shop gonna go closed. order housemad gran...   \n",
       "\n",
       "                                         lem_snippet  \n",
       "0  ordered take away lunch received burned toasti...  \n",
       "1  tldr/long story short: wrong pricing online, o...  \n",
       "2  drink order taken drink never arrived, chase u...  \n",
       "3  came twice, poor service. ordered green tea, r...  \n",
       "4  came shop gonna go closed. ordered housemade g...  "
      ]
     },
     "execution_count": 29,
     "metadata": {},
     "output_type": "execute_result"
    }
   ],
   "source": [
    "# Check out differences\n",
    "data[['tidy_snippet', 'stem_snippet', 'lem_snippet']].head(5)"
   ]
  },
  {
   "cell_type": "code",
   "execution_count": null,
   "metadata": {
    "collapsed": false
   },
   "outputs": [],
   "source": [
    "# Two X prepared separately\n",
    "X_stem = data['stem_snippet']\n",
    "X_lem = data['lem_snippet']\n",
    "y = data['sentiment']"
   ]
  },
  {
   "cell_type": "markdown",
   "metadata": {
    "collapsed": false
   },
   "source": [
    "### Vectorization\n",
    "\n",
    "\n",
    "Vectorization is the process of converting text into numerical data (vectors), which is vital step in every NLP project.\n",
    "\n",
    "Two options will be exlored: Vectorization and TD-IDF\n",
    "\n",
    "1. Count Vectorizer is a way to convert a given set of strings into a frequency representation (Bag of Words).\n",
    "2. TF-IDF focuses not only on the frequency of words present in the corpus but also provides the importance of the words\n",
    "\n",
    "In other word, in this project models build on data prepared with 4 different settings will be assessed. Namely:\n",
    "- Stemmed data prepared witt Count Vectorizer\n",
    "- Stemmed data prepared with TF-IDF\n",
    "- Lemmatized data prepared witt Count Vectorizer\n",
    "- Lemmatized data prepared with TF-IDF\n",
    "\n",
    "The CountVectorizer and TF-IDF  will choose the 3000 words/features that occur most frequently and drop everything else.\n"
   ]
  },
  {
   "cell_type": "code",
   "execution_count": null,
   "metadata": {
    "collapsed": false
   },
   "outputs": [],
   "source": [
    "# Count Vectorizer with stemming\n",
    "cv_stem=CountVectorizer(max_features=3000)\n",
    "X_count_vec_stem =cv_stem.fit_transform(X_stem)"
   ]
  },
  {
   "cell_type": "code",
   "execution_count": null,
   "metadata": {
    "collapsed": false
   },
   "outputs": [],
   "source": [
    "# Count Vectorizer with lemmatization\n",
    "cv_lem=CountVectorizer(max_features=3000)\n",
    "X_count_vec_lem = cv_lem.fit_transform(X_lem)"
   ]
  },
  {
   "cell_type": "code",
   "execution_count": null,
   "metadata": {
    "collapsed": false
   },
   "outputs": [],
   "source": [
    "# TD-IDF with stemming\n",
    "tfidf_stem =TfidfVectorizer(max_features=3000)\n",
    "X_tfidf_stem =tfidf_stem.fit_transform(X_stem)"
   ]
  },
  {
   "cell_type": "code",
   "execution_count": null,
   "metadata": {
    "collapsed": false
   },
   "outputs": [],
   "source": [
    "# TD-IDF with lemmatization data\n",
    "tfidf_lem =TfidfVectorizer(max_features=3000)\n",
    "X_tfidf_lem =tfidf_lem.fit_transform(X_lem)"
   ]
  },
  {
   "cell_type": "markdown",
   "metadata": {
    "collapsed": false
   },
   "source": [
    "### Data visualization\n",
    "\n",
    "After cleaning and preparing the data, let's explore most frequent word"
   ]
  },
  {
   "cell_type": "code",
   "execution_count": null,
   "metadata": {
    "collapsed": false
   },
   "outputs": [
    {
     "data": {
      "image/png": "[encoded data removed]",
      "text/plain": [
       "<Figure size 970x627 with 1 Axes>"
      ]
     },
     "metadata": {},
     "output_type": "display_data"
    },
    {
     "data": {
      "text/plain": [
       "<Axes: title={'center': 'The distribution of most frequent words in positive reviews'}, xlabel='Samples', ylabel='Counts'>"
      ]
     },
     "execution_count": 35,
     "metadata": {},
     "output_type": "execute_result"
    }
   ],
   "source": [
    "# Positive words\n",
    "positive = data[data.sentiment == 1]\n",
    "a = positive['tidy_snippet'].str.lower().str.cat(sep=' ')\n",
    "words = nltk.tokenize.word_tokenize(a)\n",
    "word_dist_pos = nltk.FreqDist(words)\n",
    "word_dist_pos.plot(30, cumulative=False, title='The distribution of most frequent words in positive reviews')"
   ]
  },
  {
   "cell_type": "markdown",
   "metadata": {
    "collapsed": false
   },
   "source": [
    "But we can also try it with sns bar plot"
   ]
  },
  {
   "cell_type": "code",
   "execution_count": null,
   "metadata": {
    "collapsed": false
   },
   "outputs": [
    {
     "data": {
      "image/png": "[encoded data removed]",
      "text/plain": [
       "<Figure size 970x627 with 1 Axes>"
      ]
     },
     "metadata": {},
     "output_type": "display_data"
    }
   ],
   "source": [
    "df_pos = pd.DataFrame({'words':list(word_dist_pos.keys()),'count':list(word_dist_pos.values())})\n",
    "df_po_plot = df_pos.nlargest(30,columns='count')\n",
    "\n",
    "sns.barplot(data=df_po_plot,y='words',x='count').set_title('The distribution of most frequent words in positive reviews')\n",
    "sns.despine()"
   ]
  },
  {
   "cell_type": "code",
   "execution_count": null,
   "metadata": {
    "collapsed": false
   },
   "outputs": [
    {
     "data": {
      "image/png": "[encoded data removed]",
      "text/plain": [
       "<Figure size 970x627 with 1 Axes>"
      ]
     },
     "metadata": {},
     "output_type": "display_data"
    }
   ],
   "source": [
    "## Let's do the same for negative sentiment\n",
    "negative = data[data.sentiment == -1]\n",
    "b = negative['tidy_snippet'].str.lower().str.cat(sep=' ')\n",
    "words = nltk.tokenize.word_tokenize(b)\n",
    "word_dist_neg = nltk.FreqDist(words)\n",
    "\n",
    "df_neg = pd.DataFrame({'words':list(word_dist_neg.keys()),'count':list(word_dist_neg.values())})\n",
    "df_neg_plot = df_neg.nlargest(30,columns='count')\n",
    "\n",
    "sns.barplot(data=df_neg_plot, y='words',x='count').set_title('The distribution of most frequent words in negative reviews')\n",
    "sns.despine()\n"
   ]
  },
  {
   "cell_type": "code",
   "execution_count": null,
   "metadata": {
    "collapsed": false
   },
   "outputs": [
    {
     "data": {
      "image/png": "[encoded data removed]",
      "text/plain": [
       "<Figure size 970x627 with 1 Axes>"
      ]
     },
     "metadata": {},
     "output_type": "display_data"
    }
   ],
   "source": [
    "## and neutral\n",
    "neutral = data[data.sentiment == 0]\n",
    "c = neutral['tidy_snippet'].str.lower().str.cat(sep=' ')\n",
    "words = nltk.tokenize.word_tokenize(c)\n",
    "word_dist_neu = nltk.FreqDist(words)\n",
    "\n",
    "df_neu = pd.DataFrame({'words':list(word_dist_neu.keys()),'count':list(word_dist_neu.values())})\n",
    "df_neu_plot = df_neu.nlargest(30,columns='count')\n",
    "\n",
    "sns.barplot(data=df_neu_plot, y='words',x='count').set_title('The distribution of most frequent words in neutral reviews')\n",
    "sns.despine()"
   ]
  },
  {
   "cell_type": "markdown",
   "metadata": {
    "collapsed": false
   },
   "source": [
    "### Building models\n",
    "\n",
    "Different models will be examined:\n",
    "- Multinomial Naive Bayes\n",
    "- Logistic Regression\n",
    "- Xgboost Classification\n",
    "\n",
    "#### 1. Multinomial NB\n",
    "\n",
    "Multionomial Naive Bayes will examined with 4 settings"
   ]
  },
  {
   "cell_type": "code",
   "execution_count": null,
   "metadata": {
    "collapsed": false
   },
   "outputs": [
    {
     "name": "stdout",
     "output_type": "stream",
     "text": [
      "              precision    recall  f1-score   support\n",
      "\n",
      "          -1       0.84      0.84      0.84       110\n",
      "           0       0.66      0.45      0.54        82\n",
      "           1       0.80      0.94      0.87       158\n",
      "\n",
      "    accuracy                           0.79       350\n",
      "   macro avg       0.77      0.74      0.75       350\n",
      "weighted avg       0.78      0.79      0.78       350\n",
      "\n",
      "Accuracy Multinomial NB with Count Vectorizer and Data Stemming 0.79\n"
     ]
    }
   ],
   "source": [
    "## Multinomial NB, Count Vectorizer, stemming\n",
    "model1_nb =MultinomialNB()\n",
    "X_train,X_test,y_train,y_test =train_test_split(X_count_vec_stem, y, test_size=0.3, random_state=100)\n",
    "model1_nb.fit(X_train,y_train)\n",
    "\n",
    "y_pred_nb_cv_st =model1_nb.predict(X_test)\n",
    "\n",
    "cf1=classification_report(y_test,y_pred_nb_cv_st)\n",
    "print(cf1)\n",
    "\n",
    "accuracy_nb1 = accuracy_score(y_test,y_pred_nb_cv_st)\n",
    "print('Accuracy Multinomial NB with Count Vectorizer and Data Stemming ' + str(round(accuracy_nb1,2)))"
   ]
  },
  {
   "cell_type": "code",
   "execution_count": null,
   "metadata": {
    "collapsed": false
   },
   "outputs": [
    {
     "name": "stdout",
     "output_type": "stream",
     "text": [
      "              precision    recall  f1-score   support\n",
      "\n",
      "          -1       0.84      0.77      0.81       110\n",
      "           0       0.58      0.44      0.50        82\n",
      "           1       0.79      0.94      0.86       158\n",
      "\n",
      "    accuracy                           0.77       350\n",
      "   macro avg       0.74      0.72      0.72       350\n",
      "weighted avg       0.76      0.77      0.76       350\n",
      "\n",
      "Accuracy Multinomial NB with Count Vectorizer and Data Lemmatization data 0.77\n"
     ]
    }
   ],
   "source": [
    "## Multinomial NB, Count Vectorizer, lemmatization\n",
    "model2_nb=MultinomialNB()\n",
    "X_train,X_test,y_train,y_test =train_test_split(X_count_vec_lem,y,test_size=0.3, random_state=100)\n",
    "model2_nb.fit(X_train,y_train)\n",
    "\n",
    "y_pred_cv_lem =model2_nb.predict(X_test)\n",
    "\n",
    "cf2=classification_report(y_test,y_pred_cv_lem)\n",
    "print(cf2)\n",
    "\n",
    "accuracy_nb2 = accuracy_score(y_test,y_pred_cv_lem)\n",
    "print('Accuracy Multinomial NB with Count Vectorizer and Data Lemmatization data ' + str(round(accuracy_nb2,2)))"
   ]
  },
  {
   "cell_type": "code",
   "execution_count": null,
   "metadata": {
    "collapsed": false
   },
   "outputs": [
    {
     "name": "stdout",
     "output_type": "stream",
     "text": [
      "              precision    recall  f1-score   support\n",
      "\n",
      "          -1       0.82      0.85      0.83       110\n",
      "           0       0.90      0.22      0.35        82\n",
      "           1       0.72      0.98      0.83       158\n",
      "\n",
      "    accuracy                           0.76       350\n",
      "   macro avg       0.81      0.68      0.67       350\n",
      "weighted avg       0.79      0.76      0.72       350\n",
      "\n",
      "Accuracy Multinomial NB, TF-IDF, stemming 0.76\n"
     ]
    }
   ],
   "source": [
    "## Multinomial NB, TF-IDF, stemming\n",
    "model3_nb=MultinomialNB()\n",
    "X_train,X_test,y_train,y_test =train_test_split(X_tfidf_stem,y,test_size=0.3, random_state=100)\n",
    "model3_nb.fit(X_train,y_train)\n",
    "\n",
    "y_pred_td_stem =model3_nb.predict(X_test)\n",
    "\n",
    "cf3=classification_report(y_test,y_pred_td_stem)\n",
    "print(cf3)\n",
    "\n",
    "accuracy_nb3 = accuracy_score(y_test,y_pred_td_stem)\n",
    "print('Accuracy Multinomial NB, TF-IDF, stemming ' + str(round(accuracy_nb3, 2)))"
   ]
  },
  {
   "cell_type": "code",
   "execution_count": null,
   "metadata": {
    "collapsed": false
   },
   "outputs": [
    {
     "name": "stdout",
     "output_type": "stream",
     "text": [
      "              precision    recall  f1-score   support\n",
      "\n",
      "          -1       0.81      0.81      0.81       110\n",
      "           0       0.80      0.20      0.31        82\n",
      "           1       0.71      0.99      0.83       158\n",
      "\n",
      "    accuracy                           0.75       350\n",
      "   macro avg       0.77      0.66      0.65       350\n",
      "weighted avg       0.76      0.75      0.70       350\n",
      "\n",
      "Accuracy Multinomial NB, TF-IDF, lemmatization data 0.75\n"
     ]
    }
   ],
   "source": [
    "## Multinomial NB, TF-IDF, lemmatization data\n",
    "model4_nb =MultinomialNB()\n",
    "X_train,X_test,y_train,y_test =train_test_split(X_tfidf_lem,y,test_size=0.3, random_state=100)\n",
    "model4_nb.fit(X_train,y_train)\n",
    "\n",
    "y_pred_td_lem =model4_nb.predict(X_test)\n",
    "\n",
    "cf4=classification_report(y_test,y_pred_td_lem)\n",
    "print(cf4)\n",
    "\n",
    "accuracy_nb4 = accuracy_score(y_test,y_pred_td_lem)\n",
    "print('Accuracy Multinomial NB, TF-IDF, lemmatization data ' + str(round(accuracy_nb4, 2)))"
   ]
  },
  {
   "cell_type": "markdown",
   "metadata": {
    "collapsed": false
   },
   "source": [
    "According to the accuracy, data prepared with Data Stemming and Count Vectorizer produces better outcome. Thus, next models will be built with these settings only.\n"
   ]
  },
  {
   "cell_type": "code",
   "execution_count": null,
   "metadata": {
    "collapsed": false
   },
   "outputs": [],
   "source": [
    "X_train,X_test,y_train,y_test =train_test_split(X_count_vec_stem,y,test_size=0.3, random_state=100)"
   ]
  },
  {
   "cell_type": "markdown",
   "metadata": {
    "collapsed": false
   },
   "source": [
    "## 2. Logistic Regression"
   ]
  },
  {
   "cell_type": "code",
   "execution_count": null,
   "metadata": {
    "collapsed": false
   },
   "outputs": [
    {
     "name": "stdout",
     "output_type": "stream",
     "text": [
      "              precision    recall  f1-score   support\n",
      "\n",
      "          -1       0.68      0.81      0.74        93\n",
      "           0       0.50      0.48      0.49        86\n",
      "           1       0.87      0.81      0.84       171\n",
      "\n",
      "    accuracy                           0.73       350\n",
      "   macro avg       0.69      0.70      0.69       350\n",
      "weighted avg       0.73      0.73      0.73       350\n",
      "\n",
      "Accuracy Logistic Regression0.73\n"
     ]
    }
   ],
   "source": [
    "lr = LogisticRegression(multi_class='multinomial', solver='lbfgs')\n",
    "lr.fit(X_train,y_train)\n",
    "\n",
    "y_pred_count_stem_lr =lr.predict(X_test)\n",
    "print(classification_report(y_pred_count_stem_lr,y_test))\n",
    "\n",
    "accuracy_lr = accuracy_score(y_test,y_pred_count_stem_lr)\n",
    "print('Accuracy Logistic Regression' + str(round(accuracy_lr,2)))"
   ]
  },
  {
   "cell_type": "markdown",
   "metadata": {
    "collapsed": false
   },
   "source": [
    "Let's plot result to compare the outcomes"
   ]
  },
  {
   "cell_type": "code",
   "execution_count": null,
   "metadata": {
    "collapsed": false
   },
   "outputs": [],
   "source": [
    "results = pd.DataFrame({'model':['Multinomial Naive Bayes',\n",
    "                                 'Multinomial Logistic Regression'],\n",
    "                        'accuracy': [accuracy_nb1, accuracy_lr]})"
   ]
  },
  {
   "cell_type": "code",
   "execution_count": null,
   "metadata": {
    "collapsed": false
   },
   "outputs": [],
   "source": [
    "results['accuracy'] = results['accuracy'].apply(lambda x: round(x, 2))"
   ]
  },
  {
   "cell_type": "code",
   "execution_count": null,
   "metadata": {
    "collapsed": false
   },
   "outputs": [
    {
     "data": {
      "image/png": "[encoded data removed]",
      "text/plain": [
       "<Figure size 970x627 with 1 Axes>"
      ]
     },
     "metadata": {},
     "output_type": "display_data"
    }
   ],
   "source": [
    "\n",
    "ax = sns.barplot(data=results, x='model', y=\"accuracy\")\n",
    "ax.bar_label(ax.containers[0])\n",
    "ax.set(title=\"Model's accuracy\")\n",
    "sns.despine()"
   ]
  },
  {
   "cell_type": "markdown",
   "metadata": {
    "collapsed": false
   },
   "source": [
    "Multinomial Naive Bayes produce the most accurate results, so now we can test this model\n",
    "\n",
    "First, I will prepare function that preprocess reviews"
   ]
  },
  {
   "cell_type": "code",
   "execution_count": null,
   "metadata": {
    "collapsed": false
   },
   "outputs": [],
   "source": [
    "def predict_sentiment(text):\n",
    "    if text =='':\n",
    "        print('Invalid input')\n",
    "    else:\n",
    "        punct = re.sub('[^a-zA-Z]',' ', text)\n",
    "        stop = punct.lower().split()\n",
    "        cleaned = [w for w in stop if w not in stop_words]\n",
    "        steamed = [stemmer.stem(word) for word in cleaned]\n",
    "        final = cv_stem.transform(steamed).toarray()\n",
    "        prediction =  model1_nb.predict(final)\n",
    "        if prediction[0] == 1:\n",
    "            print( \"Positive\" )\n",
    "        elif prediction[0] == 0:\n",
    "            print( \"Neutral\")\n",
    "        else:\n",
    "            print( \"Negative\")"
   ]
  },
  {
   "cell_type": "code",
   "execution_count": null,
   "metadata": {
    "collapsed": false
   },
   "outputs": [
    {
     "name": "stdout",
     "output_type": "stream",
     "text": [
      "Positive\n"
     ]
    }
   ],
   "source": [
    "predict_sentiment('very good place')\n",
    "# Correct!"
   ]
  },
  {
   "cell_type": "code",
   "execution_count": null,
   "metadata": {
    "collapsed": false
   },
   "outputs": [
    {
     "name": "stdout",
     "output_type": "stream",
     "text": [
      "Negative\n"
     ]
    }
   ],
   "source": [
    "predict_sentiment('Charged me $8 for this. The highlight was the lemon. Making toast can be hard, but maybe you should practice a few times before you open a cafe. Good luck.')\n",
    "# Correct!"
   ]
  },
  {
   "cell_type": "code",
   "execution_count": null,
   "metadata": {
    "collapsed": false
   },
   "outputs": [
    {
     "name": "stdout",
     "output_type": "stream",
     "text": [
      "Negative\n"
     ]
    }
   ],
   "source": [
    "predict_sentiment('2018 went in for a coffee, both my husband and I threw out the coffee - lucky we took our own takeaway cup.  No longer a top coffee spot in sydney.')\n",
    "# Correct!"
   ]
  },
  {
   "cell_type": "code",
   "execution_count": null,
   "metadata": {
    "collapsed": false
   },
   "outputs": [
    {
     "name": "stdout",
     "output_type": "stream",
     "text": [
      "Positive\n"
     ]
    }
   ],
   "source": [
    "predict_sentiment('Had a delicious coffee to accompany some perfect scrambled eggs, sautéed mushrooms laid on a fresh croissant. It tasted as good as it looks in this picture! Nice ambience with plenty of seats. Will definitely visit again!')\n",
    "# Correct!"
   ]
  },
  {
   "cell_type": "code",
   "execution_count": null,
   "metadata": {
    "collapsed": false
   },
   "outputs": [
    {
     "name": "stdout",
     "output_type": "stream",
     "text": [
      "Positive\n"
     ]
    }
   ],
   "source": [
    "predict_sentiment('Cheese omelette & mushrooms omelette are quite salty. but cutlery looks nice')\n",
    "#Could be neutral"
   ]
  },
  {
   "cell_type": "code",
   "execution_count": null,
   "metadata": {
    "collapsed": false
   },
   "outputs": [
    {
     "name": "stdout",
     "output_type": "stream",
     "text": [
      "Neutral\n"
     ]
    }
   ],
   "source": [
    "predict_sentiment('A nice small and intimate cafe. Good food and atmosphere.')\n",
    "#Correct!"
   ]
  },
  {
   "cell_type": "code",
   "execution_count": null,
   "metadata": {
    "collapsed": false
   },
   "outputs": [
    {
     "name": "stdout",
     "output_type": "stream",
     "text": [
      "Negative\n"
     ]
    }
   ],
   "source": [
    "predict_sentiment('Bring back the German food. It used to be a favourite place to dine, but the only great thing here now is the coffee. Alas, the meals are too big, and although pleasant enough, just as good as I make at home. I go out to try better food that will surprise me and bring me back, and I expect food to match the name. It could have been called Cabramatta Bakr')\n",
    "#Correct!"
   ]
  },
  {
   "cell_type": "code",
   "execution_count": null,
   "metadata": {
    "collapsed": false
   },
   "outputs": [
    {
     "name": "stdout",
     "output_type": "stream",
     "text": [
      "Negative\n"
     ]
    }
   ],
   "source": [
    "predict_sentiment('On average it is a good place, but could be better coffee')\n",
    "#Could be neutral, as well"
   ]
  },
  {
   "cell_type": "markdown",
   "metadata": {
    "collapsed": false
   },
   "source": [
    "So model performs  and perfectly distinct positive VS negative sentiments.\n",
    "But it has some issues with neutral reviews. There could be several reasons behind this:\n",
    "    - it was the smallest part in  training set\n",
    "    - it is enormously subjective topic, and it also depends on the way how labels were assigned to scores. Maybe score 4 should also reflect positive attitude, and only score 3 should be assigned with neutral sentiment. As an illustration, some reviews can sound totally positive but the rating was 4 thus 'neutral sentiment' was assigned.\n",
    "    - Perhaps, manual sentiment assignment can be handy.\n",
    "\n",
    "\n"
   ]
  },
  {
   "cell_type": "markdown",
   "metadata": {
    "collapsed": false
   },
   "source": [
    "## Summary"
   ]
  },
  {
   "cell_type": "markdown",
   "metadata": {
    "collapsed": false
   },
   "source": [
    "To achieve purpose of this project several steps were performed:\n",
    "    1.Data exploration\n",
    "    2.Data preprocessing\n",
    "    3.Data visualization\n",
    "    4.Modeling\n",
    "    5.Testing\n",
    "    6.Attempt of improvements\n",
    "\n",
    "The best model: Multinomial Naive Bayes build on 70% of dataset (prepared with Data Stemming and Count Vectorizer) has 79% of accuracy.\n",
    "\n",
    "Obviously there is a place for improvements:\n",
    "-   size of the dataset can be increased\n",
    "-   other models can be examined\n",
    "-   different approaches for labels assignment can be tried\n",
    "-   parametr tunning and k-fold cross validation can be handy\n",
    "\n"
   ]
  }
 ],
 "metadata": {
  "kernelspec": {
   "display_name": "Python 3",
   "language": "python",
   "name": "python3"
  },
  "language_info": {
   "codemirror_mode": {
    "name": "ipython",
    "version": 3
   },
   "file_extension": ".py",
   "mimetype": "text/x-python",
   "name": "python",
   "nbconvert_exporter": "python",
   "pygments_lexer": "ipython3",
   "version": "3.13.0"
  }
 },
 "nbformat": 4,
 "nbformat_minor": 0
}
